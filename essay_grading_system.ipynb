{
 "cells": [
  {
   "cell_type": "markdown",
   "metadata": {},
   "source": [
    "# Essay Grading System\n",
    "\n",
    "## Motivation\n",
    "\n",
    "Automated essay grading systems can significantly streamline the assessment process in educational settings, providing consistent and objective evaluations. This implementation aims to demonstrate how large language models and graph-based workflows can be combined to create a sophisticated grading system.\n",
    "\n",
    "## Key Components\n",
    "\n",
    "1. State Graph: Defines the workflow of the grading process.\n",
    "\n",
    "2. LLM Model: Provides the underlying language understanding and analysis.\n",
    "3. Grading Functions: Functions for evaluation criterias.\n",
    "4. Conditional Logic: Determines the flow of the grading process based on interim scores.\n",
    "\n",
    "## Method\n",
    "\n",
    "The system follows a step-by-step approach to grade essays:\n",
    "\n",
    "1. Content Relevance: Assesses how well the essay addresses the given topic.\n",
    "\n",
    "2. Grammar Check: Evaluates the essay's language usage and grammatical correctness.\n",
    "3. Structure Analysis: Examines the organization and flow of ideas in the essay.\n",
    "4. Depth of Analysis: Gauges the level of critical thinking and insights presented."
   ]
  },
  {
   "cell_type": "markdown",
   "metadata": {},
   "source": [
    "## Required Packages"
   ]
  },
  {
   "cell_type": "markdown",
   "metadata": {},
   "source": [
    "- Langchain\n",
    "- langgraph\n",
    "- langchain-groq\n",
    "- python-dotenv"
   ]
  },
  {
   "cell_type": "markdown",
   "metadata": {},
   "source": [
    "## Setup and Imports"
   ]
  },
  {
   "cell_type": "code",
   "execution_count": 1,
   "metadata": {},
   "outputs": [
    {
     "data": {
      "text/plain": [
       "True"
      ]
     },
     "execution_count": 1,
     "metadata": {},
     "output_type": "execute_result"
    }
   ],
   "source": [
    "from typing_extensions import TypedDict\n",
    "from langgraph.graph import StateGraph, START, END\n",
    "from langchain_core.prompts import ChatPromptTemplate\n",
    "from IPython.display import display, Image\n",
    "from pydantic import BaseModel\n",
    "from langchain_groq import ChatGroq\n",
    "from dotenv import load_dotenv\n",
    "load_dotenv()"
   ]
  },
  {
   "cell_type": "markdown",
   "metadata": {},
   "source": [
    "## Language Model Initialization"
   ]
  },
  {
   "cell_type": "code",
   "execution_count": 2,
   "metadata": {},
   "outputs": [],
   "source": [
    "llm = ChatGroq(model=\"qwen-qwq-32b\", temperature=0)"
   ]
  },
  {
   "cell_type": "markdown",
   "metadata": {},
   "source": [
    "## State Definition\n",
    "\n",
    "The state class represents the state of the grading graph."
   ]
  },
  {
   "cell_type": "code",
   "execution_count": 3,
   "metadata": {},
   "outputs": [],
   "source": [
    "class State(TypedDict):\n",
    "    topic: str\n",
    "    essay: str\n",
    "    relevance_score: float\n",
    "    grammar_score: float\n",
    "    structure_score: float\n",
    "    depth_score: float\n",
    "    final_score: float"
   ]
  },
  {
   "cell_type": "markdown",
   "metadata": {},
   "source": [
    "## Classes to Extract Structured LLM Output"
   ]
  },
  {
   "cell_type": "code",
   "execution_count": 4,
   "metadata": {},
   "outputs": [],
   "source": [
    "class Relevance(BaseModel):\n",
    "    relevance_score: float\n",
    "\n",
    "class Grammar(BaseModel):\n",
    "    grammar_score: float\n",
    "\n",
    "class Structure(BaseModel):\n",
    "    structure_score: float\n",
    "\n",
    "class Depth(BaseModel):\n",
    "    depth_score: float"
   ]
  },
  {
   "cell_type": "markdown",
   "metadata": {},
   "source": [
    "## Grading Functions\n",
    "\n",
    "The functions used in the grading process."
   ]
  },
  {
   "cell_type": "code",
   "execution_count": 5,
   "metadata": {},
   "outputs": [],
   "source": [
    "def check_relevance(state: State):\n",
    "    \"\"\"Checks relevance of the essay.\"\"\"\n",
    "    prompt = ChatPromptTemplate.from_messages(\n",
    "        [\n",
    "            (\"system\", \"Analyze the following essay and give a relevance score between 0 and 1 for the given topic.\"),\n",
    "            (\"user\", \"Topic: {topic}.\\nEssay content: {content}\"),\n",
    "        ]\n",
    "    )\n",
    "    \n",
    "    chain = prompt | llm.with_structured_output(Relevance)\n",
    "    response = chain.invoke({\n",
    "        \"topic\": state[\"topic\"],\n",
    "        \"content\": state[\"essay\"],\n",
    "    })\n",
    "    \n",
    "    return {\"relevance_score\": response.relevance_score}\n",
    "\n",
    "def check_grammar(state: State):\n",
    "    \"\"\"Checks grammar of the essay.\"\"\"\n",
    "    prompt = ChatPromptTemplate.from_messages(\n",
    "        [\n",
    "            (\"system\", \"Analyze the following essay and give a grammar score bwtween 0 and 1.\"),\n",
    "            (\"user\", \"Essay: {content}\"),\n",
    "        ]\n",
    "    )\n",
    "    \n",
    "    chain = prompt | llm.with_structured_output(Grammar)\n",
    "    response = chain.invoke({\n",
    "        \"content\": state[\"essay\"],\n",
    "    })\n",
    "    \n",
    "    return {\"grammar_score\": response.grammar_score}\n",
    "\n",
    "def check_structure(state: State):\n",
    "    \"\"\"Checks structure of the essay.\"\"\"\n",
    "    prompt = ChatPromptTemplate.from_messages(\n",
    "        [\n",
    "            (\"system\", \"Analyze the structure of the following essay and give a structure score between 0 and 1.\"),\n",
    "            (\"user\", \"Essay: {content}\"),\n",
    "        ]\n",
    "    )\n",
    "    \n",
    "    chain = prompt | llm.with_structured_output(Structure)\n",
    "    response = chain.invoke({\"content\": state[\"essay\"]})\n",
    "    \n",
    "    return {\"structure_score\": response.structure_score}\n",
    "\n",
    "def check_depth(state: State):\n",
    "    \"\"\"Check the depth of the essay.\"\"\"\n",
    "    prompt = ChatPromptTemplate.from_messages(\n",
    "        [\n",
    "            (\"system\", \"Analyze the depth of the given essay for the given topic and give a depth_score between 0 and 1\"),\n",
    "            (\"user\", \"Topic: {topic}.\\nEssay content: {content}\"),\n",
    "        ]\n",
    "    )\n",
    "    chain = prompt | llm.with_structured_output(Depth)\n",
    "    response = chain.invoke({\n",
    "        \"topic\": state[\"topic\"],\n",
    "        \"content\": state[\"essay\"],\n",
    "    })\n",
    "    \n",
    "    return {\"depth_score\": response.depth_score}\n",
    "\n",
    "def calculate_final_score(state: State):\n",
    "    \"\"\"Calculates the final score by using a weighted sum of all the individual scores.\"\"\"\n",
    "    final_score = (\n",
    "        state[\"relevance_score\"] * 0.3 +\n",
    "        state[\"grammar_score\"] * 0.2 +\n",
    "        state[\"structure_score\"] * 0.2 +\n",
    "        state[\"depth_score\"] * 0.3\n",
    "    )\n",
    "    \n",
    "    return {\"final_score\": final_score}"
   ]
  },
  {
   "cell_type": "markdown",
   "metadata": {},
   "source": [
    "## Define the Graph"
   ]
  },
  {
   "cell_type": "code",
   "execution_count": 6,
   "metadata": {},
   "outputs": [
    {
     "data": {
      "image/png": "[encoded data removed]",
      "text/plain": [
       "<IPython.core.display.Image object>"
      ]
     },
     "metadata": {},
     "output_type": "display_data"
    }
   ],
   "source": [
    "builder = StateGraph(State)\n",
    "\n",
    "# Add Nodes\n",
    "builder.add_node(\"check_relevance\", check_relevance)\n",
    "builder.add_node(\"check_grammar\", check_grammar)\n",
    "builder.add_node(\"check_structure\", check_structure)\n",
    "builder.add_node(\"check_depth\", check_depth)\n",
    "\n",
    "builder.add_node(\"calculate_final_score\", calculate_final_score)\n",
    "\n",
    "# Add Edges\n",
    "builder.add_edge(START, \"check_relevance\")\n",
    "builder.add_conditional_edges(\"check_relevance\",\n",
    "                              lambda x: \"calculate_final_score\" if x[\"relevance_score\"] < 0.5 else \"check_grammar\",\n",
    "                              [\"calculate_final_score\", \"check_grammar\"])\n",
    "builder.add_conditional_edges(\"check_grammar\",\n",
    "                              lambda x: \"calculate_final_score\" if x[\"grammar_score\"] < 0.6 else \"check_structure\",\n",
    "                              [\"calculate_final_score\", \"check_structure\"])\n",
    "builder.add_conditional_edges(\"check_structure\",\n",
    "                              lambda x: \"calculate_final_score\" if x[\"structure_score\"] < 0.6 else \"check_depth\",\n",
    "                              [\"calculate_final_score\", \"check_depth\"])\n",
    "builder.add_edge(\"check_depth\",\"calculate_final_score\")\n",
    "\n",
    "builder.add_edge(\"calculate_final_score\", END)\n",
    "\n",
    "# Compile\n",
    "graph = builder.compile()\n",
    "\n",
    "# View\n",
    "display(Image(graph.get_graph().draw_mermaid_png()))\n",
    "# print(graph.get_graph().draw_ascii())"
   ]
  },
  {
   "cell_type": "markdown",
   "metadata": {},
   "source": [
    "## Driver Function\n",
    "\n",
    "The driver function is responsible for executing the workflow and returning the resultant score."
   ]
  },
  {
   "cell_type": "code",
   "execution_count": null,
   "metadata": {},
   "outputs": [],
   "source": [
    "def driver(topic: str, essay: str):\n",
    "    \"\"\"Invokes the graph and returns the result.\n",
    "    Args:\n",
    "        topic(str): The topic of the essay.\n",
    "        essay(str): The essay to grade.\n",
    "    \"\"\"\n",
    "    \n",
    "    initial_state = State(\n",
    "        topic=topic,\n",
    "        essay=essay,\n",
    "        relevance_score=0.0,\n",
    "        grammar_score=0.0,\n",
    "        structure_score=0.0,\n",
    "        depth_score=0.0,\n",
    "        final_score=0.0\n",
    "    )\n",
    "    \n",
    "    result = graph.invoke(initial_state)\n",
    "    return result"
   ]
  },
  {
   "cell_type": "markdown",
   "metadata": {},
   "source": [
    "## Testing the Graph"
   ]
  },
  {
   "cell_type": "code",
   "execution_count": 28,
   "metadata": {},
   "outputs": [],
   "source": [
    "sample_topic = \"Natural Selection\"\n",
    "\n",
    "sample_essay = \"\"\"\n",
    "Natural selection, the engine of evolution, does not necessarily favor the strongest or the most intelligent species but rather those that are best suited to adapt to changing environments.\n",
    "For example, dinosaurs were among the most powerful creatures to have ever existed, yet they could not withstand the extreme climate shifts caused by an asteroid impact.\n",
    "In contrast, smaller and more adaptable species, like mammals, managed to survive and flourish, ultimately paving the way for the emergence of humans. \n",
    "\n",
    "Microscopic organisms like bacteria continually adapt to new antibiotics, evolving into drug-resistant strains.\n",
    "Their rapid adaptability is what ensures their continued existence despite medical advancements aimed at eradicating them.\n",
    "This underscores that survival is not about power or intelligence alone, but about adjusting quickly to new circumstances. \n",
    "\n",
    "The Mughal Empire (16th–19th Century CE), the most powerful empire in India, failed to adapt to changing economic and political realities.\n",
    "Their inability to decentralize power, reform taxation, and counter emerging threats like the British East India Company led to their downfall.\n",
    "Many Rajput kingdoms, despite their bravery, resisted change and modernization.\n",
    "Their rigid adherence to traditional warfare and reluctance to adopt new military technologies (such as firearms) made them vulnerable to the Mughals and later the British. \n",
    "\n",
    "Societies that embraced technological advancements during the Industrial Revolution prospered, while those that resisted change lagged behind.\n",
    "The Industrial Revolution (18th–19th century) transformed global economies, and nations that embraced technological advancements prospered,\n",
    "while those that resisted fell behind. Great Britain (18th–19th Century) as the birthplace of the Industrial Revolution,\n",
    "Britain rapidly mechanized its textile, coal, and iron industries. Innovations like the steam engine, power loom,\n",
    "and mechanized spinning helped it dominate global trade and establish itself as an economic superpower.\"\"\""
   ]
  },
  {
   "cell_type": "code",
   "execution_count": 45,
   "metadata": {},
   "outputs": [
    {
     "name": "stdout",
     "output_type": "stream",
     "text": [
      "Relevance Score: 0.85\n",
      "Grammar Score: 0.95\n",
      "Structure Score: 0.80\n",
      "Depth Score: 0.80\n",
      "Final Score: 0.84\n"
     ]
    }
   ],
   "source": [
    "result = driver(topic=sample_topic, essay=sample_essay)\n",
    "\n",
    "print(f'Relevance Score: {result[\"relevance_score\"]:.2f}')\n",
    "print(f'Grammar Score: {result[\"grammar_score\"]:.2f}')\n",
    "print(f'Structure Score: {result[\"structure_score\"]:.2f}')\n",
    "print(f'Depth Score: {result[\"depth_score\"]:.2f}')\n",
    "print(f'Final Score: {result[\"final_score\"]:.2f}')"
   ]
  }
 ],
 "metadata": {
  "kernelspec": {
   "display_name": "Python 3",
   "language": "python",
   "name": "python3"
  },
  "language_info": {
   "codemirror_mode": {
    "name": "ipython",
    "version": 3
   },
   "file_extension": ".py",
   "mimetype": "text/x-python",
   "name": "python",
   "nbconvert_exporter": "python",
   "pygments_lexer": "ipython3",
   "version": "3.10.12"
  }
 },
 "nbformat": 4,
 "nbformat_minor": 2
}
