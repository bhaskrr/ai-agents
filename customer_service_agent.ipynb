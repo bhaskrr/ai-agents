{
 "cells": [
  {
   "cell_type": "markdown",
   "metadata": {},
   "source": [
    "# Intelligent Customer Support Agent\n",
    "\n",
    "## Motivation\n",
    "\n",
    "In today's fast-paced business environment, efficient and accurate customer support is crucial. Automating the initial stages of customer interaction can significantly reduce response times and improve overall customer satisfaction. This project aims to showcase how advanced language models and graph-based workflows can be combined to create a sophisticated support system that can handle a variety of customer inquiries.\n",
    "\n",
    "## Prerequisites\n",
    "\n",
    "- Intermediate Python(OOP)\n",
    "\n",
    "- Langchain(Integrations with third-party apis, Prompt templates, Chains)\n",
    "- LangGraph(State management)\n",
    "- MongoDB\n",
    "\n",
    "## Key Components\n",
    "\n",
    "1. State Management: Using TypedDict to define and manage the state of each customer interaction.\n",
    "\n",
    "2. Query Categorization: Classifying customer queries into Technical, Billing, or General categories.\n",
    "3. Sentiment Analysis: Determining the emotional tone of customer queries.\n",
    "4. Response Generation: Creating appropriate responses based on the query category.\n",
    "5. Escalation Mechanism: Automatically escalating queries with negative sentiment to human agents.\n",
    "6. Workflow Graph: Utilizing LangGraph to create a flexible and extensible workflow.\n",
    "\n",
    "## Method Details\n",
    "\n",
    "1. Initialization: Set up the environment and import necessary libraries.\n",
    "\n",
    "2. State Definition: Create a structure to hold query information, category, sentiment, and response.\n",
    "3. Node Functions: Implement functions for categorization, sentiment analysis, and response generation.\n",
    "4. Graph Construction: Use StateGraph to define the workflow, adding nodes and edges to represent the support process.\n",
    "5. Conditional Routing: Implement logic to route queries based on their category and sentiment.\n",
    "6. Workflow Compilation: Compile the graph into an executable application.\n",
    "7. Execution: Process customer queries through the workflow and retrieve results.\n"
   ]
  },
  {
   "cell_type": "markdown",
   "metadata": {},
   "source": [
    "## Libraries\n"
   ]
  },
  {
   "cell_type": "code",
   "execution_count": 32,
   "metadata": {},
   "outputs": [],
   "source": [
    "from typing_extensions import TypedDict\n",
    "from langchain_groq import ChatGroq\n",
    "from langchain_core.prompts import ChatPromptTemplate\n",
    "from langgraph.graph import StateGraph, START, END\n",
    "from IPython.display import display, Image\n",
    "from pydantic import BaseModel"
   ]
  },
  {
   "cell_type": "markdown",
   "metadata": {},
   "source": [
    "## Load environmental variables\n"
   ]
  },
  {
   "cell_type": "code",
   "execution_count": 24,
   "metadata": {},
   "outputs": [
    {
     "data": {
      "text/plain": [
       "True"
      ]
     },
     "execution_count": 24,
     "metadata": {},
     "output_type": "execute_result"
    }
   ],
   "source": [
    "from dotenv import load_dotenv\n",
    "\n",
    "load_dotenv()"
   ]
  },
  {
   "cell_type": "markdown",
   "metadata": {},
   "source": [
    "## Model\n",
    "\n",
    "We will be using **Groq** for llm inference.\n",
    "\n",
    "Be sure to have a `GROQ_API_KEY` in your environment variable.\n",
    "\n",
    "You can create a groq api key by visiting <https://groq.com/>."
   ]
  },
  {
   "cell_type": "code",
   "execution_count": 5,
   "metadata": {},
   "outputs": [],
   "source": [
    "llm = ChatGroq(model=\"qwen-2.5-32b\", temperature=0)"
   ]
  },
  {
   "cell_type": "markdown",
   "metadata": {},
   "source": [
    "## Define State Structure\n",
    "\n",
    "State structure holds the query, category, sentiment and response for each customer interaction.\n"
   ]
  },
  {
   "cell_type": "code",
   "execution_count": 6,
   "metadata": {},
   "outputs": [],
   "source": [
    "class State(TypedDict):\n",
    "    query: str\n",
    "    category: str\n",
    "    sentiment: str\n",
    "    response: str"
   ]
  },
  {
   "cell_type": "markdown",
   "metadata": {},
   "source": [
    "## Define Response Structure for Sentiment and Category analysis\n",
    "\n",
    "The response structure holds the sentiment and category of the query. It is used to extract structured output from the llm call.\n"
   ]
  },
  {
   "cell_type": "code",
   "execution_count": 7,
   "metadata": {},
   "outputs": [],
   "source": [
    "class QueryDetails(BaseModel):\n",
    "    sentiment: str\n",
    "    category: str"
   ]
  },
  {
   "cell_type": "markdown",
   "metadata": {},
   "source": [
    "## Define Node Functions\n",
    "\n",
    "These functions represent the different stages of processing a customer query.\n"
   ]
  },
  {
   "cell_type": "code",
   "execution_count": null,
   "metadata": {},
   "outputs": [],
   "source": [
    "def get_sentiment_and_category(state: State):\n",
    "    \"\"\"Get the sentiment and category of the query.\"\"\"\n",
    "\n",
    "    # The system prompt can be customized depending on desired sentiments and categories\n",
    "    prompt = ChatPromptTemplate.from_messages(\n",
    "        [\n",
    "            (\n",
    "                \"system\",\n",
    "                \"Analyze the sentiment and category of the following customer query.\\\n",
    "             For sentiment, respond only with either Positive, Neutral or Negative.\\\n",
    "                 For category, respond only with either General, Billing or Technical\",\n",
    "            ),\n",
    "            (\"user\", \"Query: {query}\"),\n",
    "        ]\n",
    "    )\n",
    "\n",
    "    # Get the structured response from the llm\n",
    "    chain = prompt | llm.with_structured_output(QueryDetails)\n",
    "\n",
    "    response = chain.invoke({\"query\": state[\"query\"]})\n",
    "\n",
    "    return {\"sentiment\": response.sentiment, \"category\": response.category}\n",
    "\n",
    "\n",
    "def route_query_from_sentiment(state: State):\n",
    "    \"\"\"Routing logic based on sentiment.\"\"\"\n",
    "    sentiment = state[\"sentiment\"]\n",
    "\n",
    "    # Route to escalate node if sentiment is Negative, else proceed with further operations\n",
    "    match sentiment:\n",
    "        case \"Negative\":\n",
    "            return \"escalate\"\n",
    "        case _:\n",
    "            return \"handle_queries\"\n",
    "\n",
    "\n",
    "def escalate(state: State):\n",
    "    \"\"\"Escalates a query to a representative.\"\"\"\n",
    "    return {\n",
    "        \"response\": \"This query has been escalated to a customer service representative due to its negative sentiment.\"\n",
    "    }\n",
    "\n",
    "\n",
    "def handle_queries(state: State):\n",
    "    \"\"\"Generate response for a query.\"\"\"\n",
    "    prompt = f\"Generate a {state['category']} support response for the following query: \\\"{state['query']}\\\" , under 50 words.\"\n",
    "\n",
    "    response = llm.invoke(prompt).content\n",
    "\n",
    "    return {\"response\": response}"
   ]
  },
  {
   "cell_type": "markdown",
   "metadata": {},
   "source": [
    "The record_to_database function utilizes a mongodb database to store the result.\n",
    "\n",
    "Be sure to have a `MONGO_URL` in your environment variable.\n",
    "\n",
    "You can obtain a key by visiting <https://www.mongodb.com/>.\n",
    "\n",
    "Learn how to use mongodb with python from <https://www.w3schools.com/python/python_mongodb_getstarted.asp>."
   ]
  },
  {
   "cell_type": "code",
   "execution_count": null,
   "metadata": {},
   "outputs": [],
   "source": [
    "import pymongo\n",
    "import os\n",
    "\n",
    "def record_to_database(state: State):\n",
    "    \"\"\"Records the final state of the graph to a MongoDB database.\"\"\"\n",
    "    try:\n",
    "        client = pymongo.MongoClient(os.environ[\"MONGO_URL\"])\n",
    "        database = client[\"customer_service_database\"]\n",
    "        collection = database[\"customer_service\"]\n",
    "        payload = state\n",
    "\n",
    "        x = collection.insert_one(payload)\n",
    "        print(f\"Inserted document ID: {x.inserted_id}\")\n",
    "    except Exception as e:\n",
    "        print(\"An error occurred: \", e)"
   ]
  },
  {
   "cell_type": "markdown",
   "metadata": {},
   "source": [
    "## Define the graph\n"
   ]
  },
  {
   "cell_type": "code",
   "execution_count": null,
   "metadata": {},
   "outputs": [
    {
     "data": {
      "image/png": "[encoded data removed]",
      "text/plain": [
       "<IPython.core.display.Image object>"
      ]
     },
     "metadata": {},
     "output_type": "display_data"
    }
   ],
   "source": [
    "builder = StateGraph(State)\n",
    "\n",
    "# Add Nodes\n",
    "builder.add_node(\"get_sentiment_and_category\", get_sentiment_and_category)\n",
    "builder.add_node(\"escalate\", escalate)\n",
    "builder.add_node(\"handle_queries\", handle_queries)\n",
    "builder.add_node(\"record_to_database\", record_to_database)\n",
    "\n",
    "# Add edges\n",
    "builder.add_edge(START, \"get_sentiment_and_category\")\n",
    "builder.add_conditional_edges(\n",
    "    \"get_sentiment_and_category\",\n",
    "    route_query_from_sentiment,\n",
    "    [\"escalate\", \"handle_queries\"],\n",
    ")\n",
    "builder.add_edge(\"handle_queries\", \"record_to_database\")\n",
    "builder.add_edge(\"escalate\", \"record_to_database\")\n",
    "builder.add_edge(\"record_to_database\", END)\n",
    "\n",
    "# Compile\n",
    "graph = builder.compile()\n",
    "\n",
    "# Visualize\n",
    "display(Image(graph.get_graph().draw_mermaid_png()))"
   ]
  },
  {
   "cell_type": "markdown",
   "metadata": {},
   "source": [
    "## Testing the customer support agent\n"
   ]
  },
  {
   "cell_type": "code",
   "execution_count": 33,
   "metadata": {},
   "outputs": [],
   "source": [
    "def run_agent(query: str):\n",
    "    \"\"\"Function to run the agent once a query arrives.\"\"\"\n",
    "    # Invoke the graph and get the response\n",
    "    result = graph.invoke({\"query\": query})\n",
    "    \n",
    "    # Print the query and result\n",
    "    print(\"Query: \", query)\n",
    "    print(\"Sentiment: \", result[\"sentiment\"])\n",
    "    print(\"Category: \", result[\"category\"])\n",
    "    print(\"Response: \", result[\"response\"])\n",
    "    print(\"-x-x-x-x-x-x-x-x-\")"
   ]
  },
  {
   "cell_type": "code",
   "execution_count": 34,
   "metadata": {},
   "outputs": [
    {
     "name": "stdout",
     "output_type": "stream",
     "text": [
      "Inserted document ID: 67ece141cbd07acc4db059d5\n",
      "Query:  So, how many days are needed to install after i confirm my booking.\n",
      "Sentiment:  Neutral\n",
      "Category:  Technical\n",
      "Response:  Thank you for your inquiry. The installation process typically takes 3-5 business days after your booking confirmation. We will keep you updated throughout the process.\n",
      "-x-x-x-x-x-x-x-x-\n",
      "Inserted document ID: 67ece143cbd07acc4db059d7\n",
      "Query:  The delivery experience of my recent package was pretty bad. I was not expecting that.\n",
      "Sentiment:  Negative\n",
      "Category:  General\n",
      "Response:  This query has been escalated to a customer service representative due to its negative sentiment.\n",
      "-x-x-x-x-x-x-x-x-\n",
      "Inserted document ID: 67ece14acbd07acc4db059d9\n",
      "Query:  How much do i have to pay if i book my trip one month earlier, is there any discounts?\n",
      "Sentiment:  Neutral\n",
      "Category:  Billing\n",
      "Response:  Thank you for your inquiry. Booking your trip one month in advance may qualify you for early booking discounts. The exact discount varies by package. Please specify your travel dates and preferred package for accurate details.\n",
      "-x-x-x-x-x-x-x-x-\n",
      "Inserted document ID: 67ece14ccbd07acc4db059db\n",
      "Query:  What are your business hours?\n",
      "Sentiment:  Neutral\n",
      "Category:  General\n",
      "Response:  Our business hours are from 9:00 AM to 6:00 PM, Monday through Friday. On Saturdays, we operate from 10:00 AM to 2:00 PM. We are closed on Sundays and public holidays.\n",
      "-x-x-x-x-x-x-x-x-\n"
     ]
    }
   ],
   "source": [
    "queries = [\n",
    "    \"So, how many days are needed to install after i confirm my booking.\",\n",
    "    \"The delivery experience of my recent package was pretty bad. I was not expecting that.\",\n",
    "    \"How much do i have to pay if i book my trip one month earlier, is there any discounts?\",\n",
    "    \"What are your business hours?\",\n",
    "]\n",
    "\n",
    "\n",
    "for query in queries:\n",
    "    run_agent(query)"
   ]
  },
  {
   "cell_type": "markdown",
   "metadata": {},
   "source": [
    "## Conclusion\n",
    "\n",
    "By combining natural language processing capabilities with a structured graph-based approach, we've created a customer support agent that can efficiently handle a wide range of queries. This system can be further extended and customized to meet specific business needs, potentially integrating with existing customer support tools and databases for even more sophisticated interactions.\n"
   ]
  }
 ],
 "metadata": {
  "kernelspec": {
   "display_name": "Python 3",
   "language": "python",
   "name": "python3"
  },
  "language_info": {
   "codemirror_mode": {
    "name": "ipython",
    "version": 3
   },
   "file_extension": ".py",
   "mimetype": "text/x-python",
   "name": "python",
   "nbconvert_exporter": "python",
   "pygments_lexer": "ipython3",
   "version": "3.10.12"
  }
 },
 "nbformat": 4,
 "nbformat_minor": 2
}
